{
 "cells": [
  {
   "cell_type": "code",
   "execution_count": 4,
   "id": "ff56a7d5-5e0c-4f3c-ac06-60cb585f9cef",
   "metadata": {},
   "outputs": [
    {
     "name": "stderr",
     "output_type": "stream",
     "text": [
      "\u001b[32m\u001b[1m  Activating\u001b[22m\u001b[39m project at `~/MEGA/EMAp/JPlots.jl`\n"
     ]
    }
   ],
   "source": [
    "using Revise\n",
    "using Pkg\n",
    "Pkg.activate(\"../.\")\n",
    "using Luxor"
   ]
  },
  {
   "cell_type": "code",
   "execution_count": 43,
   "id": "df03fc64-1a61-4e22-968a-8f0aa71b1460",
   "metadata": {},
   "outputs": [
    {
     "name": "stderr",
     "output_type": "stream",
     "text": [
      "┌ Info: already in there!\n",
      "└ @ JSServe /home/davibarreira/.julia/packages/JSServe/E7QrV/src/browser_display.jl:10\n"
     ]
    },
    {
     "data": {
      "text/html": [
       "<iframe scrolling=\"no\" id=\"c7fc1836-c566-4b98-8dd8-93c514eab704\" data-jscall-id=\"278\" src=\"http://127.0.0.1:9284/c7fc1836-c566-4b98-8dd8-93c514eab704\" style=\"width: 100%; height: 480px; padding: 0; overflow: hidden; border: none\"></iframe>\n"
      ],
      "text/plain": [
       "App(JSServe.var\"#3#7\"{var\"#135#137\"}(var\"#135#137\"()))"
      ]
     },
     "execution_count": 43,
     "metadata": {},
     "output_type": "execute_result"
    }
   ],
   "source": [
    "using JSServe, Observables\n",
    "using JSServe: @js_str, Session, App, onjs, onload, Button\n",
    "using JSServe: TextField, Slider, linkjs, get_server\n",
    "using JSServe.DOM\n",
    "using JSServe: JSON3\n",
    "JSServe.browser_display()\n",
    "\n",
    "color = Observable(\"red\")\n",
    "color_css = map(x-> \"color: $(x)\", color)\n",
    "\n",
    "function JSServe.iframe_html(server::JSServe.Server, session::JSServe.Session, route::String)\n",
    "    # Display the route we just added in an iframe inline:\n",
    "    url = JSServe.online_url(server, route)\n",
    "    remote_origin = JSServe.online_url(server, \"\")\n",
    "    # style = \"position: absolute; width: 100%; height: 100%; padding: 0; overflow: hidden; border: none\"\n",
    "    style = \"width: 100%; height: 480px; padding: 0; overflow: hidden; border: none\"\n",
    "    return DOM.iframe(src=url, id=session.id, style=style, scrolling=\"no\")\n",
    "end\n",
    "\n",
    "# app = App() do\n",
    "#     return DOM.h1(\"Hello World\", style=map(x-> \"height: 480px; color: $(x)\", color))\n",
    "# end\n",
    "color[] = \"green\"\n",
    "\n",
    "\n",
    "app = App() do\n",
    "    button = DOM.button(\"click me\", onclick=js\"JSServe.update_obs($(color), 'blue')\")\n",
    "    return DOM.div(\n",
    "        button, DOM.h1(\"Hello World\", style=map(x-> \"color: $(x)\", color))\n",
    "    )\n",
    "end;\n",
    "app"
   ]
  },
  {
   "cell_type": "code",
   "execution_count": 44,
   "id": "29678d56-70be-4052-b235-1a16448f3b90",
   "metadata": {},
   "outputs": [
    {
     "data": {
      "text/plain": [
       "\"blue\""
      ]
     },
     "execution_count": 44,
     "metadata": {},
     "output_type": "execute_result"
    }
   ],
   "source": [
    "color[]"
   ]
  },
  {
   "cell_type": "code",
   "execution_count": null,
   "id": "d867168d-1776-4e70-ad12-0661b2d481d9",
   "metadata": {},
   "outputs": [],
   "source": [
    "using JSServe\n",
    "using JSServe: @js_str, onjs, Button, TextField, Slider, linkjs, Session, App\n",
    "app = App() do session::Session\n",
    "    \n",
    "    s1 = Slider(1:100)\n",
    "    s2 = Slider(1:100)\n",
    "    b  = Button(\"hi\")\n",
    "    t  = TextField(\"enter your text\")\n",
    "    s_value = s1.value\n",
    "    linkjs(session, s1.value, s2.value)\n",
    "    test = [1,2,3]\n",
    "    onjs(session, s1.value, js\"(v)=> console.log(v + ' ' + $(test))\")\n",
    "    on(t) do text\n",
    "        println(text)\n",
    "    end\n",
    "    return DOM.div(s1, s2, b, t)\n",
    "end\n",
    "\n",
    "isdefined(Main, :server) && close(server)\n",
    "\n",
    "server = JSServe.Server(app, \"127.0.0.1\", 8081);"
   ]
  },
  {
   "cell_type": "code",
   "execution_count": null,
   "id": "677f6622-bbf9-47e4-a960-695cf921cd88",
   "metadata": {},
   "outputs": [],
   "source": [
    "HTML(\"\"\"\n",
    "<iframe src=\"http://localhost:8081\" width=\"800\" height=\"100\"></iframe>    \n",
    "\"\"\")"
   ]
  },
  {
   "cell_type": "code",
   "execution_count": 9,
   "id": "e4b8fdcf-45ce-41c0-97ea-d450cccbdbe7",
   "metadata": {},
   "outputs": [
    {
     "data": {
      "text/plain": [
       "\"<svg xmlns=\\\"http://www.w3.org/2000/svg\\\" xmlns:xlink=\\\"http://www.w3.org/1999/xlink\\\" width=\\\"500pt\\\" height=\\\"500pt\\\" viewBox=\\\"0 0 500 500\\\" version=\\\"1.1\\\">\\n<g id=\\\"surface1\\\">\\n<path style=\\\" stroke:none;fill-rule:nonzero;fill:rgb(22%,59.6%,14.9%);fill-opacity:0.85;\\\" d=\\\"M 50 0 L 2\" ⋯ 1130 bytes ⋯ \"(22%,59.6%,14.9%);fill-opacity:0.85;\\\" d=\\\"M 15.449219 47.554688 L 80.34375 247.273438 C 57.289062 254.765625 33.300781 258.996094 9.074219 259.839844 L 1.746094 49.96875 C 6.402344 49.808594 11.015625 48.992188 15.449219 47.554688 Z M 15.449219 47.554688 \\\"/>\\n</g>\\n</svg>\\n\""
      ]
     },
     "execution_count": 9,
     "metadata": {},
     "output_type": "execute_result"
    }
   ],
   "source": [
    "d = Drawing(500,500,:svg)\n",
    "setopacity(0.85)\n",
    "steps = 20\n",
    "gap   = 2\n",
    "for (n, θ) in enumerate(range(0, step=2π/steps, length=steps))\n",
    "    sethue([Luxor.julia_green,\n",
    "        Luxor.julia_red,\n",
    "        Luxor.julia_purple,\n",
    "        Luxor.julia_blue][mod1(n, 4)])\n",
    "    sector(Point(0, 0), 50, 250 + 2n, θ, θ + 2π/steps - deg2rad(gap), :fill)\n",
    "end\n",
    "finish()\n",
    "d2 = Drawing(500,500, :svg)\n",
    "origin()\n",
    "rulers()\n",
    "rotate(-π/2)\n",
    "placeimage(d)\n",
    "finish()\n",
    "\n",
    "function savesvg(d::Drawing, file=\"myfig.svg\")\n",
    "    fig = Drawing(d.width,d.height, file)\n",
    "        placeimage(d)\n",
    "    finish()\n",
    "end\n",
    "\n",
    "function rawsvg(d::Drawing)\n",
    "    return String(copy(d.bufferdata))\n",
    "end\n",
    "savesvg(d)\n",
    "# findfirst(\"\\n\",rawsvg(d))[1]\n",
    "dsvg = rawsvg(d)[40:end]"
   ]
  },
  {
   "cell_type": "code",
   "execution_count": null,
   "id": "a647514c-257c-4f9e-a84f-1e312ced74e1",
   "metadata": {},
   "outputs": [],
   "source": [
    "node(:p, \"Hello, Jupyter\")"
   ]
  },
  {
   "cell_type": "code",
   "execution_count": null,
   "id": "d3d59d0b-6d96-46ac-8eca-da8d4910120f",
   "metadata": {},
   "outputs": [],
   "source": [
    "rand()"
   ]
  },
  {
   "cell_type": "code",
   "execution_count": null,
   "id": "9fb9fe17-0b72-48ee-b923-ac60df0f331d",
   "metadata": {},
   "outputs": [],
   "source": [
    "using Pkg\n",
    "Pkg.activate(\"../.\")\n",
    "using WebIO\n",
    "using Observables\n",
    "using JSExpr\n",
    "\n",
    "scope = Scope()\n",
    "obs = Observable(scope, \"aaaa\", 0.0)\n",
    "\n",
    "on(obs) do x\n",
    "    println(\"Java sent $(x)!\")\n",
    "end\n",
    "\n",
    "# scope(\n",
    "#     dom\"button\"(\n",
    "#         \"Generate Random Number\",\n",
    "#         events=Dict(\"click\" => @js () -> $obs[] = 1),\n",
    "#     ),\n",
    "# )\n",
    "\n",
    "scope(\n",
    "    dom\"button\"(\n",
    "        \"Greet\",\n",
    "         events=Dict(\n",
    "            \"click\" => @js () ->  = 1\n",
    "        ),\n",
    "    )\n",
    ")"
   ]
  },
  {
   "cell_type": "code",
   "execution_count": null,
   "id": "e835c954-5e4b-4610-a470-a8aa78633c8f",
   "metadata": {},
   "outputs": [],
   "source": [
    "obs[] = 1"
   ]
  },
  {
   "cell_type": "code",
   "execution_count": null,
   "id": "6e98b25d-c2fa-42e7-9ec6-72d70d7cbf9c",
   "metadata": {},
   "outputs": [],
   "source": []
  },
  {
   "cell_type": "code",
   "execution_count": null,
   "id": "08ae9611-c4de-40e7-bc62-5977b79926ea",
   "metadata": {},
   "outputs": [],
   "source": [
    "dom\"button\"(\n",
    "    \"Greet\",\n",
    "     events=Dict(\n",
    "        \"click\" => js\"function() { alert('Hello, World!'); }\",\n",
    "    ),\n",
    ")"
   ]
  }
 ],
 "metadata": {
  "@webio": {
   "lastCommId": "c1223e57-f195-42a2-95c1-507e3fa29cce",
   "lastKernelId": "4b067d9e-ed06-46fb-bd2f-d65179770f8f"
  },
  "kernelspec": {
   "display_name": "Julia 1.7.0",
   "language": "julia",
   "name": "julia-1.7"
  },
  "language_info": {
   "file_extension": ".jl",
   "mimetype": "application/julia",
   "name": "julia",
   "version": "1.7.0"
  }
 },
 "nbformat": 4,
 "nbformat_minor": 5
}
