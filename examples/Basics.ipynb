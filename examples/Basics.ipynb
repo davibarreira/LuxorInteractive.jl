{
 "cells": [
  {
   "cell_type": "code",
   "execution_count": 24,
   "id": "6cba2049-7d1e-443d-a966-d40a1a41c3ae",
   "metadata": {},
   "outputs": [
    {
     "name": "stderr",
     "output_type": "stream",
     "text": [
      "\u001b[32m\u001b[1m  Activating\u001b[22m\u001b[39m project at `~/MEGA/EMAp/LuxorInteractive.jl`\n"
     ]
    }
   ],
   "source": [
    "using Revise\n",
    "using Pkg\n",
    "Pkg.activate(\"./..\")\n",
    "using LuxorInteractive"
   ]
  },
  {
   "cell_type": "code",
   "execution_count": 25,
   "id": "b1bcda3b-85bb-4f78-b29e-d452e7350fe2",
   "metadata": {},
   "outputs": [],
   "source": [
    "using Luxor\n",
    "using JSServe\n",
    "using EzXML"
   ]
  },
  {
   "cell_type": "code",
   "execution_count": 53,
   "id": "a6709542-e06d-486b-8721-ba37b68018f8",
   "metadata": {},
   "outputs": [
    {
     "data": {
      "image/svg+xml": [
       "<?xml version=\"1.0\" encoding=\"UTF-8\"?>\n",
       "<svg xmlns=\"http://www.w3.org/2000/svg\" xmlns:xlink=\"http://www.w3.org/1999/xlink\" width=\"200pt\" height=\"200pt\" viewBox=\"0 0 200 200\" version=\"1.1\">\n",
       "<g id=\"surface289\">\n",
       "<path style=\"fill:none;stroke-width:2;stroke-linecap:round;stroke-linejoin:miter;stroke:rgb(100%,100%,100%);stroke-opacity:0.274;stroke-miterlimit:10;\" d=\"M 0 0 L 0 0 \"/>\n",
       "<path style=\" stroke:none;fill-rule:nonzero;fill:rgb(0%,0%,0%);fill-opacity:1;\" d=\"M 140 100 C 140 105.523438 135.523438 110 130 110 C 124.476562 110 120 105.523438 120 100 C 120 94.476562 124.476562 90 130 90 C 135.523438 90 140 94.476562 140 100 \"/>\n",
       "<path style=\"fill:none;stroke-width:2;stroke-linecap:square;stroke-linejoin:miter;stroke:rgb(100%,100%,100%);stroke-opacity:0.274;stroke-miterlimit:10;\" d=\"M 0 0 L 0 0 \"/>\n",
       "<path style=\"fill:none;stroke-width:2;stroke-linecap:round;stroke-linejoin:miter;stroke:rgb(100%,100%,100%);stroke-opacity:0.274;stroke-miterlimit:10;\" d=\"M 0 0 L 0 0 \"/>\n",
       "<path style=\" stroke:none;fill-rule:nonzero;fill:rgb(0%,0%,100%);fill-opacity:1;\" d=\"M 80 100 C 80 105.523438 75.523438 110 70 110 C 64.476562 110 60 105.523438 60 100 C 60 94.476562 64.476562 90 70 90 C 75.523438 90 80 94.476562 80 100 \"/>\n",
       "<path style=\"fill:none;stroke-width:2;stroke-linecap:square;stroke-linejoin:miter;stroke:rgb(100%,100%,100%);stroke-opacity:0.274;stroke-miterlimit:10;\" d=\"M 0 0 L 0 0 \"/>\n",
       "</g>\n",
       "</svg>\n"
      ],
      "text/plain": []
     },
     "execution_count": 53,
     "metadata": {},
     "output_type": "execute_result"
    }
   ],
   "source": [
    "d1 = Drawing(200,200,:svg)\n",
    "origin()\n",
    "circle(O+Point(30,0),10,:fill)\n",
    "finish()\n",
    "\n",
    "d2 = Drawing(200,200,:svg)\n",
    "origin()\n",
    "setcolor(\"blue\")\n",
    "circle(Point(-30,0),10,:fill)\n",
    "finish()\n",
    "\n",
    "d = Drawing(200,200,:svg)\n",
    "@group \"circle\" begin\n",
    "    placeimage(d1)\n",
    "end\n",
    "\n",
    "@group \"circle\" begin\n",
    "    placeimage(d2)\n",
    "end\n",
    "finish()\n",
    "d"
   ]
  },
  {
   "cell_type": "code",
   "execution_count": 100,
   "id": "192ce252-733d-4789-bf52-f0b5078ce03f",
   "metadata": {},
   "outputs": [
    {
     "name": "stdout",
     "output_type": "stream",
     "text": [
      "<?xml version=\"1.0\" encoding=\"UTF-8\"?>\n",
      "<svg xmlns=\"http://www.w3.org/2000/svg\" xmlns:xlink=\"http://www.w3.org/1999/xlink\" width=\"200pt\" height=\"200pt\" viewBox=\"0 0 200 200\" version=\"1.1\" id=\"luxor301\">\n",
      "<g id=\"surface289\">\n",
      "<path style=\"fill:none;stroke-width:2;stroke-linecap:round;stroke-linejoin:miter;stroke:rgb(100%,100%,100%);stroke-opacity:0.274;stroke-miterlimit:10;\" d=\"M 0 0 L 0 0 \" id=\"lxog1\" class=\"circle lxog1 luxor301\"/>\n",
      "<path style=\" stroke:none;fill-rule:nonzero;fill:rgb(0%,0%,0%);fill-opacity:1;\" d=\"M 140 100 C 140 105.523438 135.523438 110 130 110 C 124.476562 110 120 105.523438 120 100 C 120 94.476562 124.476562 90 130 90 C 135.523438 90 140 94.476562 140 100 \" id=\"lx1\" class=\"circle lx1 luxor301\"/>\n",
      "<path style=\"fill:none;stroke-width:2;stroke-linecap:square;stroke-linejoin:miter;stroke:rgb(100%,100%,100%);stroke-opacity:0.274;stroke-miterlimit:10;\" d=\"M 0 0 L 0 0 \" id=\"lxcg1\" class=\"circle lxcg1 luxor301\"/>\n",
      "<path style=\"fill:none;stroke-width:2;stroke-linecap:round;stroke-linejoin:miter;stroke:rgb(100%,100%,100%);stroke-opacity:0.274;stroke-miterlimit:10;\" d=\"M 0 0 L 0 0 \" id=\"lxog2\" class=\"circle lxog2 luxor301\"/>\n",
      "<path style=\" stroke:none;fill-rule:nonzero;fill:rgb(0%,0%,100%);fill-opacity:1;\" d=\"M 80 100 C 80 105.523438 75.523438 110 70 110 C 64.476562 110 60 105.523438 60 100 C 60 94.476562 64.476562 90 70 90 C 75.523438 90 80 94.476562 80 100 \" id=\"lx2\" class=\"circle lx2 luxor301\"/>\n",
      "<path style=\"fill:none;stroke-width:2;stroke-linecap:square;stroke-linejoin:miter;stroke:rgb(100%,100%,100%);stroke-opacity:0.274;stroke-miterlimit:10;\" d=\"M 0 0 L 0 0 \" id=\"lxcg2\" class=\"circle lxcg2 luxor301\"/>\n",
      "</g>\n",
      "</svg>\n",
      "\n"
     ]
    }
   ],
   "source": [
    "dxml = parsedrawing(d)\n",
    "println(dxml)"
   ]
  },
  {
   "cell_type": "code",
   "execution_count": 101,
   "id": "b1b399ec-225e-4971-ba0c-0ed7e31a5664",
   "metadata": {},
   "outputs": [
    {
     "data": {
      "text/plain": [
       "\"\\n.lxog1.luxor301{fill:none;stroke-width:2;stroke-linecap:round;stroke-linejoin:miter;stroke:rgb(100%,100%,100%);stroke-opacity:0.274;stroke-miterlimit:10;}\\n.lx1.luxor301{ stroke:none;fill-rule:nonzero;fill:rgb(0%,0%,0%);fill-opacity:1;}\\n.lxcg1.luxor301{fill:none;stroke-w\" ⋯ 300 bytes ⋯ \"one;fill-rule:nonzero;fill:rgb(0%,0%,100%);fill-opacity:1;}\\n.lxcg2.luxor301{fill:none;stroke-width:2;stroke-linecap:square;stroke-linejoin:miter;stroke:rgb(100%,100%,100%);stroke-opacity:0.274;stroke-miterlimit:10;}\\n\\n.circle:hover {\\n    fill: #ec008c;\\n    opacity: 1;\\n}\\n\""
      ]
     },
     "execution_count": 101,
     "metadata": {},
     "output_type": "execute_result"
    }
   ],
   "source": [
    "Page(exportable=true, offline=true);\n",
    "\n",
    "pathstyles = extractpathsstyles!(dxml)\n",
    "mycss =  pathstyles * \"\"\"\n",
    "\\n\n",
    ".circle:hover {\n",
    "    fill: #ec008c;\n",
    "    opacity: 1;\n",
    "}\n",
    "\"\"\""
   ]
  },
  {
   "cell_type": "code",
   "execution_count": 102,
   "id": "62f28d1a-764b-4026-871c-ad3fc3a122ce",
   "metadata": {},
   "outputs": [
    {
     "name": "stdout",
     "output_type": "stream",
     "text": [
      "\n",
      ".lxog1.luxor301{fill:none;stroke-width:2;stroke-linecap:round;stroke-linejoin:miter;stroke:rgb(100%,100%,100%);stroke-opacity:0.274;stroke-miterlimit:10;}\n",
      ".lx1.luxor301{ stroke:none;fill-rule:nonzero;fill:rgb(0%,0%,0%);fill-opacity:1;}\n",
      ".lxcg1.luxor301{fill:none;stroke-width:2;stroke-linecap:square;stroke-linejoin:miter;stroke:rgb(100%,100%,100%);stroke-opacity:0.274;stroke-miterlimit:10;}\n",
      ".lxog2.luxor301{fill:none;stroke-width:2;stroke-linecap:round;stroke-linejoin:miter;stroke:rgb(100%,100%,100%);stroke-opacity:0.274;stroke-miterlimit:10;}\n",
      ".lx2.luxor301{ stroke:none;fill-rule:nonzero;fill:rgb(0%,0%,100%);fill-opacity:1;}\n",
      ".lxcg2.luxor301{fill:none;stroke-width:2;stroke-linecap:square;stroke-linejoin:miter;stroke:rgb(100%,100%,100%);stroke-opacity:0.274;stroke-miterlimit:10;}\n",
      "<?xml version=\"1.0\" encoding=\"UTF-8\"?>\n",
      "<svg xmlns=\"http://www.w3.org/2000/svg\" xmlns:xlink=\"http://www.w3.org/1999/xlink\" width=\"200pt\" height=\"200pt\" viewBox=\"0 0 200 200\" version=\"1.1\" id=\"luxor301\">\n",
      "<g id=\"surface289\">\n",
      "<path d=\"M 0 0 L 0 0 \" id=\"lxog1\" class=\"circle lxog1 luxor301\"/>\n",
      "<path d=\"M 140 100 C 140 105.523438 135.523438 110 130 110 C 124.476562 110 120 105.523438 120 100 C 120 94.476562 124.476562 90 130 90 C 135.523438 90 140 94.476562 140 100 \" id=\"lx1\" class=\"circle lx1 luxor301\"/>\n",
      "<path d=\"M 0 0 L 0 0 \" id=\"lxcg1\" class=\"circle lxcg1 luxor301\"/>\n",
      "<path d=\"M 0 0 L 0 0 \" id=\"lxog2\" class=\"circle lxog2 luxor301\"/>\n",
      "<path d=\"M 80 100 C 80 105.523438 75.523438 110 70 110 C 64.476562 110 60 105.523438 60 100 C 60 94.476562 64.476562 90 70 90 C 75.523438 90 80 94.476562 80 100 \" id=\"lx2\" class=\"circle lx2 luxor301\"/>\n",
      "<path d=\"M 0 0 L 0 0 \" id=\"lxcg2\" class=\"circle lxcg2 luxor301\"/>\n",
      "</g>\n",
      "</svg>\n",
      "\n"
     ]
    }
   ],
   "source": [
    "# DOM.svg_unesc(string(dxml),DOM.style(mycss))\n",
    "println(pathstyles)\n",
    "println(dxml)"
   ]
  },
  {
   "cell_type": "code",
   "execution_count": 103,
   "id": "795b28db-bf48-4bdd-963d-bdd9fbe1d7b4",
   "metadata": {},
   "outputs": [
    {
     "data": {
      "text/html": [
       "<div id=\"662b55ea-8866-4141-b796-3635d1e0c23b\" data-jscall-id=\"115\" style=\"visibility: hidden;\">\n",
       "  <div style=\"visibility: visible;\" data-jscall-id=\"111\">\n",
       "    <h1 data-jscall-id=\"108\">Luxor Interactive</h1>\n",
       "    <svg height=\"200.0pt\" data-jscall-id=\"110\" width=\"200.0pt\"><?xml version=\"1.0\" encoding=\"UTF-8\"?>\n",
       "<svg xmlns=\"http://www.w3.org/2000/svg\" xmlns:xlink=\"http://www.w3.org/1999/xlink\" width=\"200pt\" height=\"200pt\" viewBox=\"0 0 200 200\" version=\"1.1\" id=\"luxor301\">\n",
       "<g id=\"surface289\">\n",
       "<path d=\"M 0 0 L 0 0 \" id=\"lxog1\" class=\"circle lxog1 luxor301\"/>\n",
       "<path d=\"M 140 100 C 140 105.523438 135.523438 110 130 110 C 124.476562 110 120 105.523438 120 100 C 120 94.476562 124.476562 90 130 90 C 135.523438 90 140 94.476562 140 100 \" id=\"lx1\" class=\"circle lx1 luxor301\"/>\n",
       "<path d=\"M 0 0 L 0 0 \" id=\"lxcg1\" class=\"circle lxcg1 luxor301\"/>\n",
       "<path d=\"M 0 0 L 0 0 \" id=\"lxog2\" class=\"circle lxog2 luxor301\"/>\n",
       "<path d=\"M 80 100 C 80 105.523438 75.523438 110 70 110 C 64.476562 110 60 105.523438 60 100 C 60 94.476562 64.476562 90 70 90 C 75.523438 90 80 94.476562 80 100 \" id=\"lx2\" class=\"circle lx2 luxor301\"/>\n",
       "<path d=\"M 0 0 L 0 0 \" id=\"lxcg2\" class=\"circle lxcg2 luxor301\"/>\n",
       "</g>\n",
       "</svg>\n",
       "\n",
       "      <style data-jscall-id=\"109\">\n",
       ".lxog1.luxor301{fill:none;stroke-width:2;stroke-linecap:round;stroke-linejoin:miter;stroke:rgb(100%,100%,100%);stroke-opacity:0.274;stroke-miterlimit:10;}\n",
       ".lx1.luxor301{ stroke:none;fill-rule:nonzero;fill:rgb(0%,0%,0%);fill-opacity:1;}\n",
       ".lxcg1.luxor301{fill:none;stroke-width:2;stroke-linecap:square;stroke-linejoin:miter;stroke:rgb(100%,100%,100%);stroke-opacity:0.274;stroke-miterlimit:10;}\n",
       ".lxog2.luxor301{fill:none;stroke-width:2;stroke-linecap:round;stroke-linejoin:miter;stroke:rgb(100%,100%,100%);stroke-opacity:0.274;stroke-miterlimit:10;}\n",
       ".lx2.luxor301{ stroke:none;fill-rule:nonzero;fill:rgb(0%,0%,100%);fill-opacity:1;}\n",
       ".lxcg2.luxor301{fill:none;stroke-width:2;stroke-linecap:square;stroke-linejoin:miter;stroke:rgb(100%,100%,100%);stroke-opacity:0.274;stroke-miterlimit:10;}\n",
       "\n",
       ".circle:hover {\n",
       "    fill: #ec008c;\n",
       "    opacity: 1;\n",
       "}\n",
       "</style>\n",
       "    </svg>\n",
       "  </div>\n",
       "  <script data-jscall-id=\"112\" type=\"text/javascript\">\n",
       "    window.__define = window.define;\n",
       "    window.__require = window.require;\n",
       "    window.define = undefined;\n",
       "    window.require = undefined;\n",
       "\n",
       "</script>\n",
       "  <script data-jscall-id=\"113\" type=\"text/javascript\">\n",
       "    window.define = window.__define;\n",
       "    window.require = window.__require;\n",
       "    window.__define = undefined;\n",
       "    window.__require = undefined;\n",
       "\n",
       "</script>\n",
       "  <script data-jscall-id=\"114\" type=\"text/javascript\">\n",
       "(()=> {\n",
       "    JSServe.register_sub_session('662b55ea-8866-4141-b796-3635d1e0c23b')\n",
       "    const init_data_b64 = 'H4sIAAAAAAAAA12OsQ6CMBiEd56CDR0gAlJhcNE46OoDNKX9Y2oKbeivsSu7iT6Ci7r7NL6NSKIm3vRdcrm79maYU5qJc/uh9kHplu2Z5Y00SNEZoPS6Ws+1gG/mavWu4fA8+p24ri36zBglOUOpayp05U99ofmughqjDeBCwRtnbikGASFJmWXAwjwnJBzH4zgsJwUJU5JmIoYRT9IyGHrv7r/WyKJTEO2llaVUEl03E/ROQeDduicIBzzdK7vpn1+SHxYvR6c9A+0AAAA='\n",
       "    JSServe.init_from_b64(init_data_b64)\n",
       "    if (!true){\n",
       "        JSServe.update_obs('15912453217617319882', true)\n",
       "    }\n",
       "})()\n",
       "</script>\n",
       "</div>\n"
      ],
      "text/plain": [
       "App(JSServe.var\"#1#5\"{var\"#29#30\"}(var\"#29#30\"()))"
      ]
     },
     "execution_count": 103,
     "metadata": {},
     "output_type": "execute_result"
    }
   ],
   "source": [
    "\n",
    "App() do session::Session\n",
    "    return DOM.div(style=\"visibility: visible;\",DOM.h1(\"Luxor Interactive\"),\n",
    "        DOM.svg_unesc(string(dxml),\n",
    "            height=\"$(d.height)pt\",\n",
    "            width = \"$(d.width)pt\",\n",
    "            DOM.style(mycss)))\n",
    "end"
   ]
  },
  {
   "cell_type": "code",
   "execution_count": null,
   "id": "acdc0ae9-2c69-4151-b30c-cfafec26bdca",
   "metadata": {},
   "outputs": [],
   "source": []
  },
  {
   "cell_type": "code",
   "execution_count": null,
   "id": "5f3959ed-dcfa-4e3e-a148-04a336c771e6",
   "metadata": {},
   "outputs": [],
   "source": []
  }
 ],
 "metadata": {
  "kernelspec": {
   "display_name": "Julia (4 threads) 1.7.1",
   "language": "julia",
   "name": "julia-(4-threads)-1.7"
  },
  "language_info": {
   "file_extension": ".jl",
   "mimetype": "application/julia",
   "name": "julia",
   "version": "1.7.1"
  }
 },
 "nbformat": 4,
 "nbformat_minor": 5
}
