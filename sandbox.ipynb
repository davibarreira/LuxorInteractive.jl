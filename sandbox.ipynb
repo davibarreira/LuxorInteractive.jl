{
 "cells": [
  {
   "cell_type": "code",
   "execution_count": 1,
   "id": "39144c51-5abb-4301-96ba-1f0ca2a2144f",
   "metadata": {},
   "outputs": [
    {
     "name": "stderr",
     "output_type": "stream",
     "text": [
      "\u001b[32m\u001b[1m  Activating\u001b[22m\u001b[39m project at `~/MEGA/EMAp/LuxorInteractive.jl`\n"
     ]
    }
   ],
   "source": [
    "using Pkg\n",
    "Pkg.activate(\".\")"
   ]
  },
  {
   "cell_type": "code",
   "execution_count": 2,
   "id": "7ccd6102-565a-4195-af8d-6f7f4a380849",
   "metadata": {},
   "outputs": [],
   "source": [
    "using Luxor\n",
    "using JSServe\n",
    "using Colors\n",
    "using MathTeXEngine\n",
    "using LaTeXStrings\n",
    "using Rocket"
   ]
  },
  {
   "cell_type": "code",
   "execution_count": 3,
   "id": "370f00cc-aab2-4672-a399-fb00619b291d",
   "metadata": {},
   "outputs": [],
   "source": [
    "JSServe.browser_display()\n",
    "\n",
    "app = App(DOM.h1(\"Hello World\"))\n",
    "display(app)"
   ]
  },
  {
   "cell_type": "code",
   "execution_count": 17,
   "id": "fc562511-4d90-44fc-b582-4cd7720c6156",
   "metadata": {},
   "outputs": [
    {
     "data": {
      "text/html": [
       "<div id=\"53fd945a-26ae-4f68-8b10-885a202b7c85\" data-jscall-id=\"53\" style=\"visibility: hidden;\">\n",
       "  <h1 data-jscall-id=\"49\">Luxor Interactive</h1>\n",
       "  <script data-jscall-id=\"50\" type=\"text/javascript\">\n",
       "    window.__define = window.define;\n",
       "    window.__require = window.require;\n",
       "    window.define = undefined;\n",
       "    window.require = undefined;\n",
       "\n",
       "</script>\n",
       "  <script data-jscall-id=\"51\" type=\"text/javascript\">\n",
       "    window.define = window.__define;\n",
       "    window.require = window.__require;\n",
       "    window.__define = undefined;\n",
       "    window.__require = undefined;\n",
       "\n",
       "</script>\n",
       "  <script data-jscall-id=\"52\" type=\"text/javascript\">\n",
       "(()=> {\n",
       "    JSServe.register_sub_session('53fd945a-26ae-4f68-8b10-885a202b7c85')\n",
       "    const init_data_b64 = 'H4sIAAAAAAAAA12OsQrCMBiEd5+iW3Vo0Wo1Di6Kg64+QPib/EokbYL5W8zaXdBHcFF3n8a3sQoqeNN3cNxdfbXgtQF5qj9U3znfQgVO7JQlTt4i55flamYkfjMXZ8qdwMchaCRM4SgAa7USQMoUXJo8mATSiDLHguIN0lzjC6d+Idth2l/L8SCFKBkCRoP1kEUs63UjxlJIukk2EiwNO61X919r7MhrjCvlVKa0It/MhG+nMWxdmyeEezrecrd5Pz8nPxw/AaEYKITtAAAA'\n",
       "    JSServe.init_from_b64(init_data_b64)\n",
       "    if (!true){\n",
       "        JSServe.update_obs('16914811578695467481', true)\n",
       "    }\n",
       "})()\n",
       "</script>\n",
       "</div>\n"
      ],
      "text/plain": [
       "App(JSServe.var\"#1#5\"{var\"#19#20\"}(var\"#19#20\"()))"
      ]
     },
     "execution_count": 17,
     "metadata": {},
     "output_type": "execute_result"
    }
   ],
   "source": [
    "App() do session::Session\n",
    "    return DOM.h1(\"Luxor Interactive\")\n",
    "end"
   ]
  },
  {
   "cell_type": "code",
   "execution_count": 16,
   "id": "93b5769c-4a9f-4123-9e25-4f2d2cabb818",
   "metadata": {},
   "outputs": [],
   "source": [
    "Page(exportable=true, offline=true);"
   ]
  },
  {
   "cell_type": "code",
   "execution_count": null,
   "id": "4cfc9b9e-d324-4f93-b2fb-e47a0b7a0fe5",
   "metadata": {},
   "outputs": [],
   "source": [
    "d = Drawing(200,200,:svg)\n",
    "origin()\n",
    "@layer begin\n",
    "    circle(O,20,:fill)\n",
    "end\n",
    "@layer begin\n",
    "    circle(O+Point(30,0),20,:fill)\n",
    "end\n",
    "preview()\n",
    "finish()\n",
    "dsvg = String(copy(d.bufferdata))\n",
    "d"
   ]
  },
  {
   "cell_type": "code",
   "execution_count": null,
   "id": "a82373e8-7391-4a67-a67c-277d68355063",
   "metadata": {},
   "outputs": [],
   "source": [
    "jsscript = \"\"\"\n",
    "    function myFunction(e) {\n",
    "      var x = e.clientX;\n",
    "      var y = e.clientY;\n",
    "      var coor = \"Coordinates: (\" + x + \",\" + y + \")\";\n",
    "      document.getElementById(\"demo\").innerHTML = coor;\n",
    "    }\n",
    "\"\"\""
   ]
  },
  {
   "cell_type": "code",
   "execution_count": null,
   "id": "feccbb75-276c-4fd7-bbec-63b65c958a19",
   "metadata": {},
   "outputs": [],
   "source": [
    "App() do session::Session\n",
    "    # return DOM.h1(\"Hello\")\n",
    "    return DOM.div(DOM.h1(\"Luxor Interactive\"),\n",
    "    #     DOM.script(jsscript),\n",
    "        DOM.svg_unesc(dsvg,height=\"$(d.height)pt\",width = \"$(d.width)pt\",onmousemove=\"myFunction(event)\"),\n",
    "    #     DOM.p(id=\"demo\")\n",
    "    )\n",
    "end"
   ]
  },
  {
   "cell_type": "code",
   "execution_count": null,
   "id": "ee8f3e2e-fcd7-41a0-af02-9bac31c494f1",
   "metadata": {},
   "outputs": [],
   "source": [
    "# App() do session::Session\n",
    "#     # return DOM.h1(\"Hello\")\n",
    "#     return DOM.div(DOM.h1(\"Luxor Interactive\"),\n",
    "#         DOM.script(jsscript),\n",
    "#         DOM.svg_unesc(dsvg,height=\"$(d.height)pt\",width = \"$(d.width)pt\",onmousemove=\"myFunction(event)\"),\n",
    "#         DOM.p(id=\"demo2\")\n",
    "#     )\n",
    "# end"
   ]
  },
  {
   "cell_type": "code",
   "execution_count": null,
   "id": "3cf3b86b-8c58-4c73-986e-fb98ecba9005",
   "metadata": {},
   "outputs": [],
   "source": []
  },
  {
   "cell_type": "code",
   "execution_count": null,
   "id": "9daa3cb1-504f-4a28-87f1-a7a0c3ec1545",
   "metadata": {},
   "outputs": [],
   "source": [
    "app = App(DOM.h1(\"Hel\"))\n",
    "server = JSServe.Server(app, \"127.0.0.1\", 8081);"
   ]
  },
  {
   "cell_type": "code",
   "execution_count": null,
   "id": "4ba91559-9c59-450a-a253-6e50622aa002",
   "metadata": {},
   "outputs": [],
   "source": []
  },
  {
   "cell_type": "code",
   "execution_count": null,
   "id": "c4626c3f-82a2-47b6-9d29-407807340f8d",
   "metadata": {},
   "outputs": [],
   "source": [
    "session = server.sessions[collect(keys(server.sessions))[1]];"
   ]
  },
  {
   "cell_type": "code",
   "execution_count": null,
   "id": "e39cec6b-168e-4ec1-9614-97485e09be96",
   "metadata": {},
   "outputs": [],
   "source": [
    "Page(session=session)"
   ]
  },
  {
   "cell_type": "code",
   "execution_count": null,
   "id": "2434d0e6-7ff2-4ccf-96d5-f4a5ca970cea",
   "metadata": {},
   "outputs": [],
   "source": [
    "HTML(\"\"\"\n",
    "<iframe src=\"http://localhost:8081\" width=\"800\" height=\"100\"></iframe>    \n",
    "\"\"\")"
   ]
  },
  {
   "cell_type": "code",
   "execution_count": null,
   "id": "7767ef95-dadd-4fc3-a4df-c38bb17230c9",
   "metadata": {},
   "outputs": [],
   "source": [
    "# HTML(\"\"\"\n",
    "# <iframe src=\"http://localhost:9284/browser-display\" width=\"800\" height=\"100\"></iframe>    \n",
    "# \"\"\")\n",
    "# JSServe.i"
   ]
  },
  {
   "cell_type": "code",
   "execution_count": null,
   "id": "5f16c99d-4f9b-4b5f-91aa-3fa9f9de2f30",
   "metadata": {},
   "outputs": [],
   "source": []
  },
  {
   "cell_type": "code",
   "execution_count": null,
   "id": "ed76c55f-406e-4633-8509-d59f45b75d0a",
   "metadata": {},
   "outputs": [],
   "source": [
    "# show(MIME\"image/svg+xml\"(),String(copy(d.bufferdata)))"
   ]
  }
 ],
 "metadata": {
  "kernelspec": {
   "display_name": "julia 1.7.1",
   "language": "julia",
   "name": "julia-1.7"
  },
  "language_info": {
   "file_extension": ".jl",
   "mimetype": "application/julia",
   "name": "julia",
   "version": "1.7.1"
  }
 },
 "nbformat": 4,
 "nbformat_minor": 5
}
